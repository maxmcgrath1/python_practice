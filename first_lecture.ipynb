{
 "cells": [
  {
   "cell_type": "code",
   "execution_count": 3,
   "id": "efc30fb1",
   "metadata": {},
   "outputs": [
    {
     "name": "stdout",
     "output_type": "stream",
     "text": [
      "click arrow icon to run code in cell\n"
     ]
    }
   ],
   "source": [
    "print(\"click arrow icon to run code in cell\")"
   ]
  },
  {
   "cell_type": "code",
   "execution_count": 2,
   "id": "df26a8cb",
   "metadata": {},
   "outputs": [
    {
     "name": "stdout",
     "output_type": "stream",
     "text": [
      "hold shift and press enter to run code in cell\n"
     ]
    }
   ],
   "source": [
    "print(\"hold shift and press enter to run code in cell\")"
   ]
  },
  {
   "cell_type": "code",
   "execution_count": 1,
   "id": "d83ca034",
   "metadata": {},
   "outputs": [
    {
     "name": "stdout",
     "output_type": "stream",
     "text": [
      "hold ctrl or command + left click mouse for multi cursor\n",
      "Hello Jupyter Notebook\n"
     ]
    }
   ],
   "source": [
    "print(\"hold ctrl or command + left click mouse for multi cursor\")\n",
    "print(\"Hello Jupyter Notebook\")"
   ]
  },
  {
   "cell_type": "code",
   "execution_count": 5,
   "id": "ddece539",
   "metadata": {},
   "outputs": [
    {
     "name": "stdout",
     "output_type": "stream",
     "text": [
      "16\n",
      "16\n"
     ]
    }
   ],
   "source": [
    "print(4*4)\n",
    "print(4**2)"
   ]
  },
  {
   "cell_type": "code",
   "execution_count": 7,
   "id": "24a315d2",
   "metadata": {},
   "outputs": [
    {
     "name": "stdout",
     "output_type": "stream",
     "text": [
      "13.333333333333334\n",
      "13\n",
      "1\n",
      "16\n"
     ]
    }
   ],
   "source": [
    "var = 3\n",
    "print(40/var)\n",
    "print(40//var)\n",
    "print(40%var)\n",
    "print(40-(8*var))"
   ]
  },
  {
   "cell_type": "code",
   "execution_count": 6,
   "id": "944d7c71",
   "metadata": {},
   "outputs": [
    {
     "data": {
      "text/plain": [
       "9"
      ]
     },
     "execution_count": 6,
     "metadata": {},
     "output_type": "execute_result"
    }
   ],
   "source": [
    "x, y, z = 25, 80, 9.12345\n",
    "type(x)\n",
    "\n",
    "x_float=float(x)\n",
    "x_float\n",
    "z_int = int(z)\n",
    "z_int"
   ]
  },
  {
   "cell_type": "code",
   "execution_count": 8,
   "id": "61330267",
   "metadata": {},
   "outputs": [
    {
     "data": {
      "text/plain": [
       "True"
      ]
     },
     "execution_count": 8,
     "metadata": {},
     "output_type": "execute_result"
    }
   ],
   "source": [
    "True"
   ]
  },
  {
   "cell_type": "code",
   "execution_count": 14,
   "id": "a67088bc",
   "metadata": {},
   "outputs": [
    {
     "data": {
      "text/plain": [
       "True"
      ]
     },
     "execution_count": 14,
     "metadata": {},
     "output_type": "execute_result"
    }
   ],
   "source": [
    "True == 1"
   ]
  },
  {
   "cell_type": "code",
   "execution_count": 11,
   "id": "02e5bb21",
   "metadata": {},
   "outputs": [],
   "source": [
    "var = \"house\" ; var2 = \"cinema\" ; var3 = \"temple\""
   ]
  },
  {
   "cell_type": "markdown",
   "id": "ca65904c",
   "metadata": {},
   "source": []
  },
  {
   "cell_type": "code",
   "execution_count": 12,
   "id": "bb2727e0",
   "metadata": {},
   "outputs": [
    {
     "data": {
      "text/plain": [
       "True"
      ]
     },
     "execution_count": 12,
     "metadata": {},
     "output_type": "execute_result"
    }
   ],
   "source": [
    "\"o\" in var"
   ]
  },
  {
   "cell_type": "code",
   "execution_count": 13,
   "id": "8011215f",
   "metadata": {},
   "outputs": [
    {
     "data": {
      "text/plain": [
       "False"
      ]
     },
     "execution_count": 13,
     "metadata": {},
     "output_type": "execute_result"
    }
   ],
   "source": [
    "\"o\" in var3"
   ]
  },
  {
   "cell_type": "code",
   "execution_count": 15,
   "id": "f8112258",
   "metadata": {},
   "outputs": [
    {
     "data": {
      "text/plain": [
       "True"
      ]
     },
     "execution_count": 15,
     "metadata": {},
     "output_type": "execute_result"
    }
   ],
   "source": [
    "# CHAIN COMPARISON OPERATOR\n",
    "24 >= 20 > 4 and 50 < 100 > 40"
   ]
  },
  {
   "cell_type": "code",
   "execution_count": 4,
   "id": "5ad06664",
   "metadata": {},
   "outputs": [
    {
     "name": "stdout",
     "output_type": "stream",
     "text": [
      "meow--woof--hello!!"
     ]
    }
   ],
   "source": [
    "cat = \"meow\" ; dog = \"woof\" ; parrot = \"hello\"\n",
    "print(cat, dog, parrot, sep = \"--\", end=\"!!\")"
   ]
  },
  {
   "cell_type": "code",
   "execution_count": 6,
   "id": "e5e74363",
   "metadata": {},
   "outputs": [
    {
     "data": {
      "text/plain": [
       "'This is a cool Python course!'"
      ]
     },
     "execution_count": 6,
     "metadata": {},
     "output_type": "execute_result"
    }
   ],
   "source": [
    "# concat\n",
    "lang = \"Python\"\n",
    "\"This is a cool \" + lang + \" course!\""
   ]
  },
  {
   "cell_type": "code",
   "execution_count": 8,
   "id": "88e0bb75",
   "metadata": {},
   "outputs": [
    {
     "data": {
      "text/plain": [
       "'lecture 100 is on strings'"
      ]
     },
     "execution_count": 8,
     "metadata": {},
     "output_type": "execute_result"
    }
   ],
   "source": [
    "num = 100\n",
    "# \"lecture \" + num + \" is on strings\" <---this will throw an error. cannot concat strings and ints. Must stringify nums\n",
    "\"lecture \" + str(num) + \" is on strings\""
   ]
  },
  {
   "cell_type": "code",
   "execution_count": null,
   "id": "cabe70d0",
   "metadata": {},
   "outputs": [],
   "source": []
  },
  {
   "cell_type": "code",
   "execution_count": null,
   "id": "9fcb8f1e",
   "metadata": {},
   "outputs": [],
   "source": []
  }
 ],
 "metadata": {
  "kernelspec": {
   "display_name": "Python 3 (ipykernel)",
   "language": "python",
   "name": "python3"
  },
  "language_info": {
   "codemirror_mode": {
    "name": "ipython",
    "version": 3
   },
   "file_extension": ".py",
   "mimetype": "text/x-python",
   "name": "python",
   "nbconvert_exporter": "python",
   "pygments_lexer": "ipython3",
   "version": "3.9.10"
  }
 },
 "nbformat": 4,
 "nbformat_minor": 5
}
