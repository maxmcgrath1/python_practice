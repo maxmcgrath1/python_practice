{
 "cells": [
  {
   "cell_type": "code",
   "execution_count": 3,
   "id": "efc30fb1",
   "metadata": {},
   "outputs": [
    {
     "name": "stdout",
     "output_type": "stream",
     "text": [
      "click arrow icon to run code in cell\n"
     ]
    }
   ],
   "source": [
    "print(\"click arrow icon to run code in cell\")"
   ]
  },
  {
   "cell_type": "code",
   "execution_count": 2,
   "id": "df26a8cb",
   "metadata": {},
   "outputs": [
    {
     "name": "stdout",
     "output_type": "stream",
     "text": [
      "hold shift and press enter to run code in cell\n"
     ]
    }
   ],
   "source": [
    "print(\"hold shift and press enter to run code in cell\")"
   ]
  },
  {
   "cell_type": "code",
   "execution_count": 1,
   "id": "d83ca034",
   "metadata": {},
   "outputs": [
    {
     "name": "stdout",
     "output_type": "stream",
     "text": [
      "hold ctrl or command + left click mouse for multi cursor\n",
      "Hello Jupyter Notebook\n"
     ]
    }
   ],
   "source": [
    "print(\"hold ctrl or command + left click mouse for multi cursor\")\n",
    "print(\"Hello Jupyter Notebook\")"
   ]
  },
  {
   "cell_type": "code",
   "execution_count": 5,
   "id": "ddece539",
   "metadata": {},
   "outputs": [
    {
     "name": "stdout",
     "output_type": "stream",
     "text": [
      "16\n",
      "16\n"
     ]
    }
   ],
   "source": [
    "print(4*4)\n",
    "print(4**2)"
   ]
  },
  {
   "cell_type": "code",
   "execution_count": 7,
   "id": "24a315d2",
   "metadata": {},
   "outputs": [
    {
     "name": "stdout",
     "output_type": "stream",
     "text": [
      "13.333333333333334\n",
      "13\n",
      "1\n",
      "16\n"
     ]
    }
   ],
   "source": [
    "var = 3\n",
    "print(40/var)\n",
    "print(40//var)\n",
    "print(40%var)\n",
    "print(40-(8*var))"
   ]
  },
  {
   "cell_type": "code",
   "execution_count": 6,
   "id": "944d7c71",
   "metadata": {},
   "outputs": [
    {
     "data": {
      "text/plain": [
       "9"
      ]
     },
     "execution_count": 6,
     "metadata": {},
     "output_type": "execute_result"
    }
   ],
   "source": [
    "x, y, z = 25, 80, 9.12345\n",
    "type(x)\n",
    "\n",
    "x_float=float(x)\n",
    "x_float\n",
    "z_int = int(z)\n",
    "z_int"
   ]
  },
  {
   "cell_type": "code",
   "execution_count": 8,
   "id": "61330267",
   "metadata": {},
   "outputs": [
    {
     "data": {
      "text/plain": [
       "True"
      ]
     },
     "execution_count": 8,
     "metadata": {},
     "output_type": "execute_result"
    }
   ],
   "source": [
    "True"
   ]
  },
  {
   "cell_type": "code",
   "execution_count": 14,
   "id": "a67088bc",
   "metadata": {},
   "outputs": [
    {
     "data": {
      "text/plain": [
       "True"
      ]
     },
     "execution_count": 14,
     "metadata": {},
     "output_type": "execute_result"
    }
   ],
   "source": [
    "True == 1"
   ]
  },
  {
   "cell_type": "code",
   "execution_count": 11,
   "id": "02e5bb21",
   "metadata": {},
   "outputs": [],
   "source": [
    "var = \"house\" ; var2 = \"cinema\" ; var3 = \"temple\""
   ]
  },
  {
   "cell_type": "markdown",
   "id": "ca65904c",
   "metadata": {},
   "source": []
  },
  {
   "cell_type": "code",
   "execution_count": 12,
   "id": "bb2727e0",
   "metadata": {},
   "outputs": [
    {
     "data": {
      "text/plain": [
       "True"
      ]
     },
     "execution_count": 12,
     "metadata": {},
     "output_type": "execute_result"
    }
   ],
   "source": [
    "\"o\" in var"
   ]
  },
  {
   "cell_type": "code",
   "execution_count": 13,
   "id": "8011215f",
   "metadata": {},
   "outputs": [
    {
     "data": {
      "text/plain": [
       "False"
      ]
     },
     "execution_count": 13,
     "metadata": {},
     "output_type": "execute_result"
    }
   ],
   "source": [
    "\"o\" in var3"
   ]
  },
  {
   "cell_type": "code",
   "execution_count": 15,
   "id": "f8112258",
   "metadata": {},
   "outputs": [
    {
     "data": {
      "text/plain": [
       "True"
      ]
     },
     "execution_count": 15,
     "metadata": {},
     "output_type": "execute_result"
    }
   ],
   "source": [
    "# CHAIN COMPARISON OPERATOR\n",
    "24 >= 20 > 4 and 50 < 100 > 40"
   ]
  },
  {
   "cell_type": "code",
   "execution_count": 4,
   "id": "5ad06664",
   "metadata": {},
   "outputs": [
    {
     "name": "stdout",
     "output_type": "stream",
     "text": [
      "meow--woof--hello!!"
     ]
    }
   ],
   "source": [
    "cat = \"meow\" ; dog = \"woof\" ; parrot = \"hello\"\n",
    "print(cat, dog, parrot, sep = \"--\", end=\"!!\")"
   ]
  },
  {
   "cell_type": "code",
   "execution_count": 6,
   "id": "e5e74363",
   "metadata": {},
   "outputs": [
    {
     "data": {
      "text/plain": [
       "'This is a cool Python course!'"
      ]
     },
     "execution_count": 6,
     "metadata": {},
     "output_type": "execute_result"
    }
   ],
   "source": [
    "# concat\n",
    "lang = \"Python\"\n",
    "\"This is a cool \" + lang + \" course!\""
   ]
  },
  {
   "cell_type": "code",
   "execution_count": 8,
   "id": "88e0bb75",
   "metadata": {},
   "outputs": [
    {
     "data": {
      "text/plain": [
       "'lecture 100 is on strings'"
      ]
     },
     "execution_count": 8,
     "metadata": {},
     "output_type": "execute_result"
    }
   ],
   "source": [
    "num = 100\n",
    "# \"lecture \" + num + \" is on strings\" <---this will throw an error. cannot concat strings and ints. Must stringify nums\n",
    "\"lecture \" + str(num) + \" is on strings\""
   ]
  },
  {
   "cell_type": "code",
   "execution_count": 9,
   "id": "cabe70d0",
   "metadata": {},
   "outputs": [
    {
     "data": {
      "text/plain": [
       "'2050'"
      ]
     },
     "execution_count": 9,
     "metadata": {},
     "output_type": "execute_result"
    }
   ],
   "source": [
    "\"20\" + \"50\""
   ]
  },
  {
   "cell_type": "code",
   "execution_count": 12,
   "id": "9fcb8f1e",
   "metadata": {},
   "outputs": [
    {
     "data": {
      "text/plain": [
       "4"
      ]
     },
     "execution_count": 12,
     "metadata": {},
     "output_type": "execute_result"
    }
   ],
   "source": [
    "check = \"a a a a B b b b c c\"\n",
    "check.count(\"a\")"
   ]
  },
  {
   "cell_type": "code",
   "execution_count": 20,
   "id": "7981b41f",
   "metadata": {},
   "outputs": [
    {
     "data": {
      "text/plain": [
       "'PLEASE CLEAN UP THIS MESSY DOCSTRING WHICH CAN HAVE MULTIPLE LINES OF STRING'"
      ]
     },
     "execution_count": 20,
     "metadata": {},
     "output_type": "execute_result"
    }
   ],
   "source": [
    "messy = \"\"\"//PLEASE @CLEAN UP THIS MESSY @DOCSTRING \n",
    "WHICH CAN HAVE MULTIPLE LINES \n",
    "OF STRING\"\"\"\n",
    "messy.replace(\"//\", \"\").replace(\"\\n\", \"\").replace(\"@\", \"\")"
   ]
  },
  {
   "cell_type": "code",
   "execution_count": 41,
   "id": "24880bfb",
   "metadata": {},
   "outputs": [],
   "source": [
    "robot = \"technologically\"\n",
    "\n",
    "consoles = \"ps4 is cooler than xbox!\"\n",
    "\n",
    "code = \"p1y2t3h4o5n6i7c8\"\n",
    "\n",
    "words = \"I saw a cat jump over the moon and into the clouds\"\n",
    "\n",
    "new_words = \"I saw a cow fly over the gates and into the forest\"\n",
    "\n",
    "paid = \"I received a total of $5000\"\n"
   ]
  },
  {
   "cell_type": "code",
   "execution_count": 42,
   "id": "f89923de",
   "metadata": {},
   "outputs": [
    {
     "data": {
      "text/plain": [
       "'techno'"
      ]
     },
     "execution_count": 42,
     "metadata": {},
     "output_type": "execute_result"
    }
   ],
   "source": [
    "# THIS IS A SLICE\n",
    "robot[0:6]"
   ]
  },
  {
   "cell_type": "code",
   "execution_count": 43,
   "id": "c83154f4",
   "metadata": {},
   "outputs": [
    {
     "data": {
      "text/plain": [
       "'logically'"
      ]
     },
     "execution_count": 43,
     "metadata": {},
     "output_type": "execute_result"
    }
   ],
   "source": [
    "# SLICE FROM A STARTPOINT TO THE END\n",
    "robot[6:]"
   ]
  },
  {
   "cell_type": "code",
   "execution_count": 44,
   "id": "b4babc4e",
   "metadata": {},
   "outputs": [
    {
     "data": {
      "text/plain": [
       "23"
      ]
     },
     "execution_count": 44,
     "metadata": {},
     "output_type": "execute_result"
    }
   ],
   "source": [
    "consoles.find(\"!\")"
   ]
  },
  {
   "cell_type": "code",
   "execution_count": 48,
   "id": "d6061619",
   "metadata": {},
   "outputs": [
    {
     "data": {
      "text/plain": [
       "'pythonic'"
      ]
     },
     "execution_count": 48,
     "metadata": {},
     "output_type": "execute_result"
    }
   ],
   "source": [
    "# USING THE STRIDE METHOD\n",
    "code[0::2]\n",
    "code[1::2]"
   ]
  },
  {
   "cell_type": "code",
   "execution_count": 49,
   "id": "85bc1f71",
   "metadata": {},
   "outputs": [
    {
     "data": {
      "text/plain": [
       "'I saw a cat jump over the moon and into the clouds'"
      ]
     },
     "execution_count": 49,
     "metadata": {},
     "output_type": "execute_result"
    }
   ],
   "source": [
    "words"
   ]
  },
  {
   "cell_type": "code",
   "execution_count": 52,
   "id": "9a616af7",
   "metadata": {},
   "outputs": [
    {
     "data": {
      "text/plain": [
       "\"The student's name is Michael and his grade is A+\""
      ]
     },
     "execution_count": 52,
     "metadata": {},
     "output_type": "execute_result"
    }
   ],
   "source": [
    "# THE FORMAT METHOD\n",
    "name = \"Michael\" ; grade = \"A+\"\n",
    "\"The student's name is {} and his grade is {}\".format(name, grade)"
   ]
  },
  {
   "cell_type": "code",
   "execution_count": 55,
   "id": "04126621",
   "metadata": {},
   "outputs": [
    {
     "data": {
      "text/plain": [
       "'I saw lions, zebras, and elephants'"
      ]
     },
     "execution_count": 55,
     "metadata": {},
     "output_type": "execute_result"
    }
   ],
   "source": [
    "animals = [\"lions\", \"zebras\", \"elephants\"]\n",
    "safari = \"I saw {}, {}, and {}\"\n",
    "safari.format(animals[0], animals[1], animals[2])\n",
    "safari.format(*animals)"
   ]
  },
  {
   "cell_type": "code",
   "execution_count": 1,
   "id": "ae64fff6",
   "metadata": {},
   "outputs": [
    {
     "data": {
      "text/plain": [
       "[0, 1, 2, 3, 4, 5, 6, 7, 8, 9]"
      ]
     },
     "execution_count": 1,
     "metadata": {},
     "output_type": "execute_result"
    }
   ],
   "source": [
    "# range will always start at 0\n",
    "list(range(10))"
   ]
  },
  {
   "cell_type": "code",
   "execution_count": 2,
   "id": "07ec8d3f",
   "metadata": {},
   "outputs": [
    {
     "data": {
      "text/plain": [
       "[0, 2, 4, 6, 8, 10, 12, 14, 16, 18, 20]"
      ]
     },
     "execution_count": 2,
     "metadata": {},
     "output_type": "execute_result"
    }
   ],
   "source": [
    "# 1st number is start, 2nd number is end, 3rd number is steps between\n",
    "list(range(0, 22, 2))"
   ]
  },
  {
   "cell_type": "code",
   "execution_count": 6,
   "id": "cdbb5dc5",
   "metadata": {},
   "outputs": [
    {
     "data": {
      "text/plain": [
       "[34, 2, 45, 22]"
      ]
     },
     "execution_count": 6,
     "metadata": {},
     "output_type": "execute_result"
    }
   ],
   "source": [
    "num = [34, 2, 45, 22]\n",
    "num\n"
   ]
  },
  {
   "cell_type": "code",
   "execution_count": 10,
   "id": "e417ada4",
   "metadata": {},
   "outputs": [
    {
     "data": {
      "text/plain": [
       "[34, 2, 45, 22, 100, 100, 100, 100]"
      ]
     },
     "execution_count": 10,
     "metadata": {},
     "output_type": "execute_result"
    }
   ],
   "source": [
    "type(num)\n",
    "# Append will add onto the end\n",
    "num.append(100)\n",
    "num"
   ]
  },
  {
   "cell_type": "code",
   "execution_count": 12,
   "id": "069a3dc1",
   "metadata": {},
   "outputs": [
    {
     "data": {
      "text/plain": [
       "[]"
      ]
     },
     "execution_count": 12,
     "metadata": {},
     "output_type": "execute_result"
    }
   ],
   "source": [
    "num.clear()\n",
    "num"
   ]
  },
  {
   "cell_type": "code",
   "execution_count": 16,
   "id": "e6692ef0",
   "metadata": {},
   "outputs": [
    {
     "data": {
      "text/plain": [
       "[34, 2, 45, 22, 100]"
      ]
     },
     "execution_count": 16,
     "metadata": {},
     "output_type": "execute_result"
    }
   ],
   "source": [
    "# num.append([34, 2, 45, 22, 100])\n",
    "num = num [0]\n",
    "num"
   ]
  },
  {
   "cell_type": "code",
   "execution_count": 17,
   "id": "1da0a6eb",
   "metadata": {},
   "outputs": [
    {
     "data": {
      "text/plain": [
       "[2, 22, 34, 45, 100]"
      ]
     },
     "execution_count": 17,
     "metadata": {},
     "output_type": "execute_result"
    }
   ],
   "source": [
    "# Sort will sort from low to high\n",
    "num.sort()\n",
    "num"
   ]
  },
  {
   "cell_type": "code",
   "execution_count": 18,
   "id": "16bcd006",
   "metadata": {},
   "outputs": [
    {
     "data": {
      "text/plain": [
       "[2, 22, 200, 34, 45, 100]"
      ]
     },
     "execution_count": 18,
     "metadata": {},
     "output_type": "execute_result"
    }
   ],
   "source": [
    "# 1st number is where to insert, 2nd is what to insert\n",
    "num.insert(2, 200)\n",
    "num"
   ]
  },
  {
   "cell_type": "code",
   "execution_count": 19,
   "id": "026c0fc2",
   "metadata": {},
   "outputs": [
    {
     "data": {
      "text/plain": [
       "[2, 22, 200, 34, 45]"
      ]
     },
     "execution_count": 19,
     "metadata": {},
     "output_type": "execute_result"
    }
   ],
   "source": [
    "# Pop removes last element unless specified\n",
    "num.pop()\n",
    "num"
   ]
  },
  {
   "cell_type": "code",
   "execution_count": 21,
   "id": "76cfa772",
   "metadata": {},
   "outputs": [
    {
     "data": {
      "text/plain": [
       "['ps5', 'robot', 'ball']"
      ]
     },
     "execution_count": 21,
     "metadata": {},
     "output_type": "execute_result"
    }
   ],
   "source": [
    "items = [\"car\", \"robot\", \"ball\"]\n",
    "items\n",
    "items[0] = \"ps5\"\n",
    "items"
   ]
  },
  {
   "cell_type": "code",
   "execution_count": 24,
   "id": "076b1fea",
   "metadata": {},
   "outputs": [
    {
     "data": {
      "text/plain": [
       "['ps5',\n",
       " 'robot',\n",
       " 'ball',\n",
       " [2, 22, 200, 34, 45],\n",
       " [2, 22, 200, 34, 45],\n",
       " [2, 22, 200, 34, 45]]"
      ]
     },
     "execution_count": 24,
     "metadata": {},
     "output_type": "execute_result"
    }
   ],
   "source": [
    "items.append(num)\n",
    "items"
   ]
  },
  {
   "cell_type": "code",
   "execution_count": 26,
   "id": "a5bf36d8",
   "metadata": {},
   "outputs": [
    {
     "data": {
      "text/plain": [
       "tuple"
      ]
     },
     "execution_count": 26,
     "metadata": {},
     "output_type": "execute_result"
    }
   ],
   "source": [
    "# Tuples\n",
    "tup1 = 40, 50, 60, 70, 80\n",
    "tup1\n",
    "type(tup1)"
   ]
  },
  {
   "cell_type": "code",
   "execution_count": 29,
   "id": "169f71f3",
   "metadata": {},
   "outputs": [
    {
     "data": {
      "text/plain": [
       "tuple"
      ]
     },
     "execution_count": 29,
     "metadata": {},
     "output_type": "execute_result"
    }
   ],
   "source": [
    "myList = [10, 20, 30]\n",
    "tup2 = tuple(myList)\n",
    "tup2\n",
    "type(tup2)"
   ]
  },
  {
   "cell_type": "code",
   "execution_count": 31,
   "id": "75f68804",
   "metadata": {},
   "outputs": [
    {
     "data": {
      "text/plain": [
       "(40, 50, 60, 70, 80, 10, 20, 30)"
      ]
     },
     "execution_count": 31,
     "metadata": {},
     "output_type": "execute_result"
    }
   ],
   "source": [
    "tup3 = tup1 +tup2\n",
    "tup3"
   ]
  },
  {
   "cell_type": "code",
   "execution_count": 34,
   "id": "80ba995e",
   "metadata": {},
   "outputs": [
    {
     "data": {
      "text/plain": [
       "9"
      ]
     },
     "execution_count": 34,
     "metadata": {},
     "output_type": "execute_result"
    }
   ],
   "source": [
    "tup4 = \"cat\", \"cat\", \"cat\", \"dog\", \"dog\", 10, 10, 10, 10, True\n",
    "tup4.count(\"cat\")\n",
    "tup4.index(True)"
   ]
  },
  {
   "cell_type": "code",
   "execution_count": 35,
   "id": "c7a382ed",
   "metadata": {},
   "outputs": [
    {
     "data": {
      "text/plain": [
       "300"
      ]
     },
     "execution_count": 35,
     "metadata": {},
     "output_type": "execute_result"
    }
   ],
   "source": [
    "sum(tup1)\n",
    "# min and max will just show the lowest or highest value in the tuple"
   ]
  },
  {
   "cell_type": "code",
   "execution_count": 37,
   "id": "bc77476a",
   "metadata": {},
   "outputs": [
    {
     "data": {
      "text/plain": [
       "[10, 20, 30, 40, 50, 60, 70, 80]"
      ]
     },
     "execution_count": 37,
     "metadata": {},
     "output_type": "execute_result"
    }
   ],
   "source": [
    "sorted(tup3)"
   ]
  },
  {
   "cell_type": "code",
   "execution_count": 2,
   "id": "ec89a34d",
   "metadata": {},
   "outputs": [
    {
     "data": {
      "text/plain": [
       "{'A': 10, 'B': 20, 'C': 50, 'D': 80}"
      ]
     },
     "execution_count": 2,
     "metadata": {},
     "output_type": "execute_result"
    }
   ],
   "source": [
    "# Dictionaries -- will be in {}\n",
    "d1 = {}\n",
    "d1[\"A\"] = 10\n",
    "d1[\"B\"] = 20\n",
    "d1[\"C\"] = 50\n",
    "d1[\"D\"] = 80\n",
    "d1"
   ]
  },
  {
   "cell_type": "code",
   "execution_count": 3,
   "id": "f501a2bb",
   "metadata": {},
   "outputs": [
    {
     "data": {
      "text/plain": [
       "{'robot': '25.99', 'car': '45.95'}"
      ]
     },
     "execution_count": 3,
     "metadata": {},
     "output_type": "execute_result"
    }
   ],
   "source": [
    "toys = {\"robot\": \"25.99\", \"car\": \"45.95\"}\n",
    "toys"
   ]
  },
  {
   "cell_type": "code",
   "execution_count": 4,
   "id": "71229bab",
   "metadata": {},
   "outputs": [
    {
     "data": {
      "text/plain": [
       "{'A': 10, 'B': 20, 'C': 50, 'D': 80, 'robot': '25.99', 'car': '45.95'}"
      ]
     },
     "execution_count": 4,
     "metadata": {},
     "output_type": "execute_result"
    }
   ],
   "source": [
    "# To add 2 dictionaries together, you must use the Update method\n",
    "# To empty a dictionary, use the Clear method\n",
    "d1.update(toys)\n",
    "d1"
   ]
  },
  {
   "cell_type": "code",
   "execution_count": 7,
   "id": "d702ac17",
   "metadata": {},
   "outputs": [
    {
     "data": {
      "text/plain": [
       "['A', 'B', 'C', 'D', 'robot', 'car']"
      ]
     },
     "execution_count": 7,
     "metadata": {},
     "output_type": "execute_result"
    }
   ],
   "source": [
    "# CONVERT DICTS INTO LISTS OR TUPLES FOR INDEXING (FINDING THE KEYS OR VALUES, ETC.)\n",
    "list(d1)"
   ]
  },
  {
   "cell_type": "code",
   "execution_count": 11,
   "id": "9c367405",
   "metadata": {},
   "outputs": [
    {
     "data": {
      "text/plain": [
       "{'k1': {'A': 10, 'B': 20, 'C': 50, 'D': 80, 'robot': '25.99', 'car': '45.95'},\n",
       " 'k2': [10, 20, 30],\n",
       " 'k3': ('tuple!', [1, 2, {'k4': ['a', 'b', 'catch me!']}])}"
      ]
     },
     "execution_count": 11,
     "metadata": {},
     "output_type": "execute_result"
    }
   ],
   "source": [
    "maze = {\"k1\": d1, \n",
    "        \"k2\": [10, 20, 30],\n",
    "        \"k3\": (\"tuple!\", [1, 2, {\"k4\": [\"a\", \"b\", \"catch me!\"]}])}\n",
    "maze"
   ]
  },
  {
   "cell_type": "code",
   "execution_count": 18,
   "id": "b55b51a3",
   "metadata": {},
   "outputs": [
    {
     "data": {
      "text/plain": [
       "'catch me!'"
      ]
     },
     "execution_count": 18,
     "metadata": {},
     "output_type": "execute_result"
    }
   ],
   "source": [
    "maze[\"k3\"][1][2][\"k4\"][2]"
   ]
  },
  {
   "cell_type": "code",
   "execution_count": 39,
   "id": "fd684589",
   "metadata": {},
   "outputs": [
    {
     "data": {
      "text/plain": [
       "'40.0'"
      ]
     },
     "execution_count": 39,
     "metadata": {},
     "output_type": "execute_result"
    }
   ],
   "source": [
    "# EXCERCISE 1 -- DESIRED OUTPUT: 77\n",
    "# HINTS--USE VALUES(), LIST, EVAL(), SLICE(), AND INT\n",
    "toys = {\"robot\": \"$40.0\", \"car\": \"$25\", \"ironman\": \"$12\"}\n",
    "toys.values()\n",
    "list(toys.values())\n",
    "(list(toys.values())[0][1:])"
   ]
  },
  {
   "cell_type": "code",
   "execution_count": null,
   "id": "8209ee41",
   "metadata": {},
   "outputs": [],
   "source": []
  }
 ],
 "metadata": {
  "kernelspec": {
   "display_name": "Python 3 (ipykernel)",
   "language": "python",
   "name": "python3"
  },
  "language_info": {
   "codemirror_mode": {
    "name": "ipython",
    "version": 3
   },
   "file_extension": ".py",
   "mimetype": "text/x-python",
   "name": "python",
   "nbconvert_exporter": "python",
   "pygments_lexer": "ipython3",
   "version": "3.9.10"
  }
 },
 "nbformat": 4,
 "nbformat_minor": 5
}
