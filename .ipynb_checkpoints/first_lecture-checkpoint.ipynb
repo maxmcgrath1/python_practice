{
 "cells": [
  {
   "cell_type": "code",
   "execution_count": null,
   "id": "efc30fb1",
   "metadata": {},
   "outputs": [],
   "source": [
    "print(\"click arrow icon to run code in cell\")"
   ]
  },
  {
   "cell_type": "code",
   "execution_count": 3,
   "id": "df26a8cb",
   "metadata": {},
   "outputs": [
    {
     "name": "stdout",
     "output_type": "stream",
     "text": [
      "click arrow icon to run code in cell\n",
      "hold shift and press enter to run code in cell\n"
     ]
    }
   ],
   "source": [
    "print(\"hold shift and press enter to run code in cell\")"
   ]
  },
  {
   "cell_type": "code",
   "execution_count": 7,
   "id": "d83ca034",
   "metadata": {},
   "outputs": [
    {
     "name": "stdout",
     "output_type": "stream",
     "text": [
      "hold ctrl or command + left click mouse for multi cursor\n",
      "hold ctrl or command + left click mouse for multi cursor\n",
      "hold ctrl or command + left click mouse for multi cursor\n",
      "hold ctrl or command + left click mouse for multi cursor\n",
      "hold ctrl or command + left click mouse for multi cursor\n",
      "hold ctrl or command + left click mouse for multi cursor\n",
      "Hello Jupyter Notebook\n"
     ]
    }
   ],
   "source": [
    "print(\"hold ctrl or command + left click mouse for multi cursor\")\n",
    "print(\"hold ctrl or command + left click mouse for multi cursor\")\n",
    "print(\"hold ctrl or command + left click mouse for multi cursor\")\n",
    "print(\"hold ctrl or command + left click mouse for multi cursor\")\n",
    "print(\"hold ctrl or command + left click mouse for multi cursor\")\n",
    "print(\"hold ctrl or command + left click mouse for multi cursor\")\n",
    "print(\"Hello Jupyter Notebook\")"
   ]
  },
  {
   "cell_type": "code",
   "execution_count": null,
   "id": "ddece539",
   "metadata": {},
   "outputs": [],
   "source": [
    "\n",
    "\n",
    "\n",
    "\n",
    "\n"
   ]
  },
  {
   "cell_type": "code",
   "execution_count": 6,
   "id": "944d7c71",
   "metadata": {},
   "outputs": [
    {
     "name": "stdout",
     "output_type": "stream",
     "text": [
      "hold ctrl or command + left click mouse for multi cursor\n",
      "hold ctrl or command + left click mouse for multi cursor\n",
      "hold ctrl or command + left click mouse for multi cursor\n",
      "hold ctrl or command + left click mouse for multi cursor\n",
      "hold ctrl or command + left click mouse for multi cursor\n",
      "hold ctrl or command + left click mouse for multi cursor\n"
     ]
    }
   ],
   "source": [
    "print(\"hold ctrl or command + left click mouse for multi cursor\")\n",
    "print(\"hold ctrl or command + left click mouse for multi cursor\")\n",
    "print(\"hold ctrl or command + left click mouse for multi cursor\")\n",
    "print(\"hold ctrl or command + left click mouse for multi cursor\")\n",
    "print(\"hold ctrl or command + left click mouse for multi cursor\")\n",
    "print(\"hold ctrl or command + left click mouse for multi cursor\")"
   ]
  },
  {
   "cell_type": "code",
   "execution_count": null,
   "id": "61330267",
   "metadata": {},
   "outputs": [],
   "source": []
  },
  {
   "cell_type": "code",
   "execution_count": null,
   "id": "a67088bc",
   "metadata": {},
   "outputs": [],
   "source": []
  },
  {
   "cell_type": "code",
   "execution_count": null,
   "id": "02e5bb21",
   "metadata": {},
   "outputs": [],
   "source": []
  },
  {
   "cell_type": "code",
   "execution_count": null,
   "id": "ca65904c",
   "metadata": {},
   "outputs": [],
   "source": []
  },
  {
   "cell_type": "code",
   "execution_count": null,
   "id": "bb2727e0",
   "metadata": {},
   "outputs": [],
   "source": []
  },
  {
   "cell_type": "code",
   "execution_count": null,
   "id": "8011215f",
   "metadata": {},
   "outputs": [],
   "source": []
  }
 ],
 "metadata": {
  "kernelspec": {
   "display_name": "Python 3 (ipykernel)",
   "language": "python",
   "name": "python3"
  },
  "language_info": {
   "codemirror_mode": {
    "name": "ipython",
    "version": 3
   },
   "file_extension": ".py",
   "mimetype": "text/x-python",
   "name": "python",
   "nbconvert_exporter": "python",
   "pygments_lexer": "ipython3",
   "version": "3.11.5"
  }
 },
 "nbformat": 4,
 "nbformat_minor": 5
}
